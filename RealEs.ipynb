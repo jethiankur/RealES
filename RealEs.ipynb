{
 "cells": [
  {
   "cell_type": "code",
   "execution_count": 1,
   "metadata": {
    "collapsed": true
   },
   "outputs": [],
   "source": [
    "from pyspark import SparkContext, SparkConf\n",
    "from pyspark.sql import SQLContext\n",
    "from pyspark.sql.window import Window\n",
    "from pyspark.sql import functions as F\n",
    "import pyspark.sql"
   ]
  },
  {
   "cell_type": "code",
   "execution_count": 2,
   "metadata": {
    "collapsed": true
   },
   "outputs": [],
   "source": [
    "sc = SparkContext()\n",
    "sqlContext = SQLContext(sc)"
   ]
  },
  {
   "cell_type": "code",
   "execution_count": 3,
   "metadata": {
    "collapsed": true
   },
   "outputs": [],
   "source": [
    "df_rent = sqlContext.read.format('com.databricks.spark.csv').options(header='true', inferschema='true').load('rent.csv')"
   ]
  },
  {
   "cell_type": "code",
   "execution_count": 4,
   "metadata": {},
   "outputs": [
    {
     "data": {
      "text/plain": [
       "10"
      ]
     },
     "execution_count": 4,
     "metadata": {},
     "output_type": "execute_result"
    }
   ],
   "source": [
    "df_rent.count()"
   ]
  },
  {
   "cell_type": "code",
   "execution_count": 5,
   "metadata": {},
   "outputs": [
    {
     "name": "stdout",
     "output_type": "stream",
     "text": [
      "+----------+----+------+------+\n",
      "|rent_space|year|quater|   erv|\n",
      "+----------+----+------+------+\n",
      "|   U100501|2014|     1|100976|\n",
      "|   U100501|2014|     2|101140|\n",
      "|   U100501|2014|     3|101304|\n",
      "|   U100501|2014|     4|101468|\n",
      "|   U100501|2015|     1|101633|\n",
      "+----------+----+------+------+\n",
      "\n"
     ]
    }
   ],
   "source": [
    "df_rent.filter(df_rent.rent_space == 'U100501').show()"
   ]
  },
  {
   "cell_type": "code",
   "execution_count": 6,
   "metadata": {
    "collapsed": true
   },
   "outputs": [],
   "source": [
    "window_over_erv = Window.partitionBy(\"erv\").orderBy(\"rent_space\")"
   ]
  },
  {
   "cell_type": "code",
   "execution_count": 7,
   "metadata": {},
   "outputs": [
    {
     "name": "stdout",
     "output_type": "stream",
     "text": [
      "+----------+----+------+------+-----+\n",
      "|rent_space|year|quater|   erv|index|\n",
      "+----------+----+------+------+-----+\n",
      "|   U100501|2014|     1|100976|    1|\n",
      "|   U100501|2014|     2|101140|    1|\n",
      "|   U100501|2014|     3|101304|    1|\n",
      "|   U100501|2014|     4|101468|    1|\n",
      "|   U100501|2015|     1|101633|    1|\n",
      "|   U100502|2014|     1| 45364|    1|\n",
      "|   U100502|2014|     2| 45438|    1|\n",
      "|   U100502|2014|     3| 45511|    1|\n",
      "|   U100502|2014|     4| 45585|    1|\n",
      "|   U100502|2015|     1| 45659|    1|\n",
      "+----------+----+------+------+-----+\n",
      "\n"
     ]
    }
   ],
   "source": [
    "df_rent.withColumn('index',F.lit(1)).show()"
   ]
  },
  {
   "cell_type": "code",
   "execution_count": 8,
   "metadata": {
    "collapsed": true
   },
   "outputs": [],
   "source": [
    "window_over_erv1 = Window.partitionBy(\"rent_space\").orderBy(\"year\")"
   ]
  },
  {
   "cell_type": "code",
   "execution_count": 9,
   "metadata": {
    "collapsed": true
   },
   "outputs": [],
   "source": [
    "df_dates = df_rent.withColumn(\"ERV Growth % Per Quarter\",(F.lead(\"erv\").over(window_over_erv1)-df_rent.erv)/df_rent.erv)"
   ]
  },
  {
   "cell_type": "code",
   "execution_count": 11,
   "metadata": {},
   "outputs": [
    {
     "name": "stdout",
     "output_type": "stream",
     "text": [
      "+----------+----+------+------+------------------------+\n",
      "|rent_space|year|quater|erv   |ERV Growth % Per Quarter|\n",
      "+----------+----+------+------+------------------------+\n",
      "|U100501   |2014|1     |100976|0.00162414831247029     |\n",
      "|U100501   |2014|2     |101140|0.0016215147320545779   |\n",
      "|U100501   |2014|3     |101304|0.0016188896785911712   |\n",
      "|U100501   |2014|4     |101468|0.0016261284345803603   |\n",
      "|U100501   |2015|1     |101633|null                    |\n",
      "|U100502   |2014|1     |45364 |0.0016312494489022131   |\n",
      "|U100502   |2014|2     |45438 |0.0016065847968660593   |\n",
      "|U100502   |2014|3     |45511 |0.0016259805321790337   |\n",
      "|U100502   |2014|4     |45585 |0.0016233410112975759   |\n",
      "|U100502   |2015|1     |45659 |null                    |\n",
      "+----------+----+------+------+------------------------+\n",
      "\n"
     ]
    }
   ],
   "source": [
    "df_dates.show(10, truncate=False)"
   ]
  },
  {
   "cell_type": "code",
   "execution_count": null,
   "metadata": {
    "collapsed": true
   },
   "outputs": [],
   "source": []
  }
 ],
 "metadata": {
  "kernelspec": {
   "display_name": "Python 3",
   "language": "python",
   "name": "python3"
  },
  "language_info": {
   "codemirror_mode": {
    "name": "ipython",
    "version": 3
   },
   "file_extension": ".py",
   "mimetype": "text/x-python",
   "name": "python",
   "nbconvert_exporter": "python",
   "pygments_lexer": "ipython3",
   "version": "3.5.2"
  }
 },
 "nbformat": 4,
 "nbformat_minor": 2
}
